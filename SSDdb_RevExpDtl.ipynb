{
 "metadata": {
  "name": "",
  "signature": "sha256:96d304d92a66d1dd344657b0dd2b08b0f45b18845191e3781ab81a8a7a6b0b18"
 },
 "nbformat": 3,
 "nbformat_minor": 0,
 "worksheets": [
  {
   "cells": [
    {
     "cell_type": "markdown",
     "metadata": {},
     "source": [
      "#Process Revenue and Expense Detail history from csv files"
     ]
    },
    {
     "cell_type": "markdown",
     "metadata": {},
     "source": [
      "## Import needed modules, set path shortcuts"
     ]
    },
    {
     "cell_type": "code",
     "collapsed": false,
     "input": [
      "#!//anaconda/bin/python\n",
      "import os, csv, re, datetime\n",
      "import pandas as pd\n",
      "import numpy as np\n",
      "\n",
      "pathFinances = '/Users/lizbaumann/Liz/SSD/_Finances/'"
     ],
     "language": "python",
     "metadata": {},
     "outputs": [],
     "prompt_number": 4
    },
    {
     "cell_type": "markdown",
     "metadata": {},
     "source": [
      "## Read in and process RevenueDetail data"
     ]
    },
    {
     "cell_type": "code",
     "collapsed": false,
     "input": [
      "dfrd = pd.read_csv(pathFinances + 'RevenueDetail.csv',skiprows=8)\n",
      "\n",
      "dfrd['Amount'] = dfrd['Amount'].str.replace(r'$', '')\n",
      "dfrd['Amount'] = dfrd['Amount'].str.replace(r',', '').astype(float)\n",
      "dfrd['Date'] = pd.to_datetime(dfrd['Date'], format='%m/%d/%Y')\n",
      "dfrd['For Date'] = pd.to_datetime(dfrd['For Date'], format='%m/%d/%Y')\n",
      "dfrd['SourceFile'] = 'RevDtl'\n",
      "dfrd['Account'] = 'RevDtl'\n",
      "dfrd['Entries'] = 1\n",
      "dfrd['what3'] = dfrd['Category']\n",
      "\n",
      "# not dealing with old stuff \n",
      "dfrd = dfrd[dfrd['Category'] != 'Flotations']\n",
      "dfrd.shape # (363, 17)"
     ],
     "language": "python",
     "metadata": {},
     "outputs": [
      {
       "metadata": {},
       "output_type": "pyout",
       "prompt_number": 6,
       "text": [
        "(363, 17)"
       ]
      }
     ],
     "prompt_number": 6
    },
    {
     "cell_type": "markdown",
     "metadata": {},
     "source": [
      "## Revenue: Get subsets for merging to Paypal, Elevations data"
     ]
    },
    {
     "cell_type": "markdown",
     "metadata": {},
     "source": [
      "### Revenue Paypal: get reclass items (eg reclass workshop payment to dues)\n"
     ]
    },
    {
     "cell_type": "code",
     "collapsed": false,
     "input": [
      "dfrd_rcls = dfrd.copy()\n",
      "dfrd_rcls = dfrd_rcls[dfrd_rcls['how'] == 'reclass']\n",
      "dfrd_rcls['Date'] = dfrd_rcls['For Date']\n",
      "cols = ['SourceFile', 'Account', 'how', 'Date', 'For Date', 'who', 'what3', 'Amount', 'Entries']\n",
      "dfrd_rcls = dfrd_rcls[cols]\n",
      "dfrd_rcls"
     ],
     "language": "python",
     "metadata": {},
     "outputs": [
      {
       "html": [
        "<div style=\"max-height:1000px;max-width:1500px;overflow:auto;\">\n",
        "<table border=\"1\" class=\"dataframe\">\n",
        "  <thead>\n",
        "    <tr style=\"text-align: right;\">\n",
        "      <th></th>\n",
        "      <th>SourceFile</th>\n",
        "      <th>Account</th>\n",
        "      <th>how</th>\n",
        "      <th>Date</th>\n",
        "      <th>For Date</th>\n",
        "      <th>who</th>\n",
        "      <th>what3</th>\n",
        "      <th>Amount</th>\n",
        "      <th>Entries</th>\n",
        "    </tr>\n",
        "  </thead>\n",
        "  <tbody>\n",
        "    <tr>\n",
        "      <th>132</th>\n",
        "      <td> RevDtl</td>\n",
        "      <td> RevDtl</td>\n",
        "      <td> reclass</td>\n",
        "      <td>2013-06-29</td>\n",
        "      <td>2013-06-29</td>\n",
        "      <td>  Jeffrey Ammons</td>\n",
        "      <td>      Workshops</td>\n",
        "      <td>-15</td>\n",
        "      <td> 1</td>\n",
        "    </tr>\n",
        "    <tr>\n",
        "      <th>133</th>\n",
        "      <td> RevDtl</td>\n",
        "      <td> RevDtl</td>\n",
        "      <td> reclass</td>\n",
        "      <td>2013-06-29</td>\n",
        "      <td>2013-06-29</td>\n",
        "      <td>  Jeffrey Ammons</td>\n",
        "      <td> Dues Recurring</td>\n",
        "      <td> 15</td>\n",
        "      <td> 1</td>\n",
        "    </tr>\n",
        "    <tr>\n",
        "      <th>194</th>\n",
        "      <td> RevDtl</td>\n",
        "      <td> RevDtl</td>\n",
        "      <td> reclass</td>\n",
        "      <td>2013-09-07</td>\n",
        "      <td>2013-09-07</td>\n",
        "      <td> Daniel Zukowski</td>\n",
        "      <td>      Workshops</td>\n",
        "      <td>-15</td>\n",
        "      <td> 1</td>\n",
        "    </tr>\n",
        "    <tr>\n",
        "      <th>195</th>\n",
        "      <td> RevDtl</td>\n",
        "      <td> RevDtl</td>\n",
        "      <td> reclass</td>\n",
        "      <td>2013-10-12</td>\n",
        "      <td>2013-10-12</td>\n",
        "      <td> Daniel Zukowski</td>\n",
        "      <td> Dues Recurring</td>\n",
        "      <td> 15</td>\n",
        "      <td> 1</td>\n",
        "    </tr>\n",
        "  </tbody>\n",
        "</table>\n",
        "</div>"
       ],
       "metadata": {},
       "output_type": "pyout",
       "prompt_number": 7,
       "text": [
        "    SourceFile Account      how       Date   For Date              who  \\\n",
        "132     RevDtl  RevDtl  reclass 2013-06-29 2013-06-29   Jeffrey Ammons   \n",
        "133     RevDtl  RevDtl  reclass 2013-06-29 2013-06-29   Jeffrey Ammons   \n",
        "194     RevDtl  RevDtl  reclass 2013-09-07 2013-09-07  Daniel Zukowski   \n",
        "195     RevDtl  RevDtl  reclass 2013-10-12 2013-10-12  Daniel Zukowski   \n",
        "\n",
        "              what3  Amount  Entries  \n",
        "132       Workshops     -15        1  \n",
        "133  Dues Recurring      15        1  \n",
        "194       Workshops     -15        1  \n",
        "195  Dues Recurring      15        1  "
       ]
      }
     ],
     "prompt_number": 7
    },
    {
     "cell_type": "markdown",
     "metadata": {},
     "source": [
      "### Revenue Elevations: deposits detail, plus date subtotals"
     ]
    },
    {
     "cell_type": "code",
     "collapsed": false,
     "input": [
      "dfrd_el = dfrd.copy()\n",
      "dfrd_el = dfrd_el[dfrd_el['how'].isin(['cash','check','square'])]\n",
      "cols = ['SourceFile', 'Account', 'how', 'yrmo', 'Date', 'For Date', 'who', 'Category', 'Amount', 'Entries', 'Qty']\n",
      "dfrd_el = dfrd_el[cols]\n",
      "dfrd_el['For Month'] = [int(d.strftime('%Y%m')) if not pd.isnull(d) \\\n",
      "\telse 0 for d in dfrd_el['For Date']]\n",
      "cols = ['how', 'Date', 'Amount']\n",
      "dfrd_el_bydt = dfrd_el[cols]\n",
      "dfrd_el_bydt = dfrd_el_bydt.groupby(cols[0:len(cols)-1], as_index=False).sum()\n",
      "dfrd_el.shape # (256, 12)\n",
      "\n",
      "#dfrd_501c3box = dfrd[dfrd['how'] == '501c3box']"
     ],
     "language": "python",
     "metadata": {},
     "outputs": [
      {
       "metadata": {},
       "output_type": "pyout",
       "prompt_number": 19,
       "text": [
        "(256, 12)"
       ]
      }
     ],
     "prompt_number": 19
    },
    {
     "cell_type": "code",
     "collapsed": false,
     "input": [
      "dfrd_el.head()"
     ],
     "language": "python",
     "metadata": {},
     "outputs": [
      {
       "html": [
        "<div style=\"max-height:1000px;max-width:1500px;overflow:auto;\">\n",
        "<table border=\"1\" class=\"dataframe\">\n",
        "  <thead>\n",
        "    <tr style=\"text-align: right;\">\n",
        "      <th></th>\n",
        "      <th>SourceFile</th>\n",
        "      <th>Account</th>\n",
        "      <th>how</th>\n",
        "      <th>yrmo</th>\n",
        "      <th>Date</th>\n",
        "      <th>For Date</th>\n",
        "      <th>who</th>\n",
        "      <th>Category</th>\n",
        "      <th>Amount</th>\n",
        "      <th>Entries</th>\n",
        "      <th>Qty</th>\n",
        "      <th>For Month</th>\n",
        "    </tr>\n",
        "  </thead>\n",
        "  <tbody>\n",
        "    <tr>\n",
        "      <th>6 </th>\n",
        "      <td> RevDtl</td>\n",
        "      <td> RevDtl</td>\n",
        "      <td>   cash</td>\n",
        "      <td> 201106</td>\n",
        "      <td>2011-06-26</td>\n",
        "      <td>NaT</td>\n",
        "      <td>     Rich Points</td>\n",
        "      <td> Donations</td>\n",
        "      <td>   6.00</td>\n",
        "      <td> 1</td>\n",
        "      <td>NaN</td>\n",
        "      <td> 0</td>\n",
        "    </tr>\n",
        "    <tr>\n",
        "      <th>9 </th>\n",
        "      <td> RevDtl</td>\n",
        "      <td> RevDtl</td>\n",
        "      <td>   cash</td>\n",
        "      <td> 201108</td>\n",
        "      <td>2011-08-16</td>\n",
        "      <td>NaT</td>\n",
        "      <td> Daniel Zukowski</td>\n",
        "      <td> Donations</td>\n",
        "      <td>  20.00</td>\n",
        "      <td> 1</td>\n",
        "      <td>NaN</td>\n",
        "      <td> 0</td>\n",
        "    </tr>\n",
        "    <tr>\n",
        "      <th>10</th>\n",
        "      <td> RevDtl</td>\n",
        "      <td> RevDtl</td>\n",
        "      <td>   cash</td>\n",
        "      <td> 201108</td>\n",
        "      <td>2011-08-16</td>\n",
        "      <td>NaT</td>\n",
        "      <td>         UNKNOWN</td>\n",
        "      <td> Donations</td>\n",
        "      <td>   0.00</td>\n",
        "      <td> 1</td>\n",
        "      <td>NaN</td>\n",
        "      <td> 0</td>\n",
        "    </tr>\n",
        "    <tr>\n",
        "      <th>20</th>\n",
        "      <td> RevDtl</td>\n",
        "      <td> RevDtl</td>\n",
        "      <td>   cash</td>\n",
        "      <td> 201201</td>\n",
        "      <td>2012-01-31</td>\n",
        "      <td>NaT</td>\n",
        "      <td>   Joel Bartlett</td>\n",
        "      <td> Donations</td>\n",
        "      <td>  20.00</td>\n",
        "      <td> 1</td>\n",
        "      <td>NaN</td>\n",
        "      <td> 0</td>\n",
        "    </tr>\n",
        "    <tr>\n",
        "      <th>25</th>\n",
        "      <td> RevDtl</td>\n",
        "      <td> RevDtl</td>\n",
        "      <td> square</td>\n",
        "      <td> 201203</td>\n",
        "      <td>2012-03-12</td>\n",
        "      <td>NaT</td>\n",
        "      <td>         UNKNOWN</td>\n",
        "      <td>   UNKNOWN</td>\n",
        "      <td> 330.64</td>\n",
        "      <td> 1</td>\n",
        "      <td>NaN</td>\n",
        "      <td> 0</td>\n",
        "    </tr>\n",
        "  </tbody>\n",
        "</table>\n",
        "</div>"
       ],
       "metadata": {},
       "output_type": "pyout",
       "prompt_number": 9,
       "text": [
        "   SourceFile Account     how    yrmo       Date For Date              who  \\\n",
        "6      RevDtl  RevDtl    cash  201106 2011-06-26      NaT      Rich Points   \n",
        "9      RevDtl  RevDtl    cash  201108 2011-08-16      NaT  Daniel Zukowski   \n",
        "10     RevDtl  RevDtl    cash  201108 2011-08-16      NaT          UNKNOWN   \n",
        "20     RevDtl  RevDtl    cash  201201 2012-01-31      NaT    Joel Bartlett   \n",
        "25     RevDtl  RevDtl  square  201203 2012-03-12      NaT          UNKNOWN   \n",
        "\n",
        "     Category  Amount  Entries  Qty  For Month  \n",
        "6   Donations    6.00        1  NaN          0  \n",
        "9   Donations   20.00        1  NaN          0  \n",
        "10  Donations    0.00        1  NaN          0  \n",
        "20  Donations   20.00        1  NaN          0  \n",
        "25    UNKNOWN  330.64        1  NaN          0  "
       ]
      }
     ],
     "prompt_number": 9
    },
    {
     "cell_type": "markdown",
     "metadata": {},
     "source": [
      "# Read in and process ExpenseDetail data\n",
      "+ dues credits: add revenue item for dues and also expenses items\n",
      "+ categorize Elevations checks and debit card transactions\n",
      "+ categorize Paypal refund transactions that were expenses\n",
      "+ categorize cash transactions that were expenses"
     ]
    },
    {
     "cell_type": "code",
     "collapsed": false,
     "input": [
      "dfed = pd.read_csv(pathFinances + 'ExpenseDetail.csv',skiprows=8)\n",
      "\n",
      "dfed['Amount'] = dfed['Amount'].str.replace(r'$', '')\n",
      "dfed['Amount'] = dfed['Amount'].str.replace(r',', '').astype(float)\n",
      "dfed['CheckNbr'] = dfed['CheckNbr'].fillna(0.0).astype(int).astype(str)\n",
      "dfed['Date'] = pd.to_datetime(dfed['Date'], format='%m/%d/%Y')\n",
      "dfed['For Date'] = pd.to_datetime(dfed['For Date'], format='%m/%d/%Y')\n",
      "dfed['SourceFile'] = 'ExpDtl'\n",
      "dfed['Account'] = 'ExpDtl'\n",
      "dfed['Entries'] = 1\n",
      "dfed['who'] = dfed['To']\n",
      "dfed['what3'] = dfed['Category']\n",
      "dfed.shape # (83, 19)"
     ],
     "language": "python",
     "metadata": {},
     "outputs": [
      {
       "metadata": {},
       "output_type": "pyout",
       "prompt_number": 11,
       "text": [
        "(83, 19)"
       ]
      }
     ],
     "prompt_number": 11
    },
    {
     "cell_type": "markdown",
     "metadata": {},
     "source": [
      "## Expenses: Get subsets for merging to Paypal, Elevations data"
     ]
    },
    {
     "cell_type": "markdown",
     "metadata": {},
     "source": [
      "### Expenses Paypal: dues credits"
     ]
    },
    {
     "cell_type": "code",
     "collapsed": false,
     "input": [
      "dfed_dc = dfed.copy()\n",
      "dfed_dc = dfed_dc[dfed_dc['how'] == 'dues credit']\n",
      "dfed_dc['who'] = dfed_dc['Who Transacted']\n",
      "dfed_dc['what3'] = 'Dues Recurring'\n",
      "dfed_dc['Date'] = dfed_dc['For Date']\n",
      "cols = ['SourceFile', 'Account', 'how', 'Date', 'For Date', 'who', 'what3', 'Amount', 'Entries']\n",
      "dfed_dc = dfed_dc[cols]\n",
      "dfed_dc = dfed_dc.groupby(cols[0:len(cols)-2], as_index=False).sum()\n",
      "dfed_dc"
     ],
     "language": "python",
     "metadata": {},
     "outputs": [
      {
       "html": [
        "<div style=\"max-height:1000px;max-width:1500px;overflow:auto;\">\n",
        "<table border=\"1\" class=\"dataframe\">\n",
        "  <thead>\n",
        "    <tr style=\"text-align: right;\">\n",
        "      <th></th>\n",
        "      <th>SourceFile</th>\n",
        "      <th>Account</th>\n",
        "      <th>how</th>\n",
        "      <th>Date</th>\n",
        "      <th>For Date</th>\n",
        "      <th>who</th>\n",
        "      <th>what3</th>\n",
        "      <th>Amount</th>\n",
        "      <th>Entries</th>\n",
        "    </tr>\n",
        "  </thead>\n",
        "  <tbody>\n",
        "    <tr>\n",
        "      <th>0</th>\n",
        "      <td> ExpDtl</td>\n",
        "      <td> ExpDtl</td>\n",
        "      <td> dues credit</td>\n",
        "      <td>2013-02-01</td>\n",
        "      <td>2013-02-01</td>\n",
        "      <td> Joel Bartlett</td>\n",
        "      <td> Dues Recurring</td>\n",
        "      <td> 45</td>\n",
        "      <td> 1</td>\n",
        "    </tr>\n",
        "    <tr>\n",
        "      <th>1</th>\n",
        "      <td> ExpDtl</td>\n",
        "      <td> ExpDtl</td>\n",
        "      <td> dues credit</td>\n",
        "      <td>2013-02-01</td>\n",
        "      <td>2013-02-01</td>\n",
        "      <td>   Liz Baumann</td>\n",
        "      <td> Dues Recurring</td>\n",
        "      <td> 65</td>\n",
        "      <td> 2</td>\n",
        "    </tr>\n",
        "    <tr>\n",
        "      <th>2</th>\n",
        "      <td> ExpDtl</td>\n",
        "      <td> ExpDtl</td>\n",
        "      <td> dues credit</td>\n",
        "      <td>2013-03-01</td>\n",
        "      <td>2013-03-01</td>\n",
        "      <td>   Liz Baumann</td>\n",
        "      <td> Dues Recurring</td>\n",
        "      <td> 44</td>\n",
        "      <td> 2</td>\n",
        "    </tr>\n",
        "    <tr>\n",
        "      <th>3</th>\n",
        "      <td> ExpDtl</td>\n",
        "      <td> ExpDtl</td>\n",
        "      <td> dues credit</td>\n",
        "      <td>2013-05-01</td>\n",
        "      <td>2013-05-01</td>\n",
        "      <td> Joel Bartlett</td>\n",
        "      <td> Dues Recurring</td>\n",
        "      <td> 45</td>\n",
        "      <td> 1</td>\n",
        "    </tr>\n",
        "    <tr>\n",
        "      <th>4</th>\n",
        "      <td> ExpDtl</td>\n",
        "      <td> ExpDtl</td>\n",
        "      <td> dues credit</td>\n",
        "      <td>2013-10-01</td>\n",
        "      <td>2013-10-01</td>\n",
        "      <td> Joel Bartlett</td>\n",
        "      <td> Dues Recurring</td>\n",
        "      <td> 65</td>\n",
        "      <td> 1</td>\n",
        "    </tr>\n",
        "    <tr>\n",
        "      <th>5</th>\n",
        "      <td> ExpDtl</td>\n",
        "      <td> ExpDtl</td>\n",
        "      <td> dues credit</td>\n",
        "      <td>2013-11-01</td>\n",
        "      <td>2013-11-01</td>\n",
        "      <td>  Ben Burdette</td>\n",
        "      <td> Dues Recurring</td>\n",
        "      <td> 65</td>\n",
        "      <td> 1</td>\n",
        "    </tr>\n",
        "    <tr>\n",
        "      <th>6</th>\n",
        "      <td> ExpDtl</td>\n",
        "      <td> ExpDtl</td>\n",
        "      <td> dues credit</td>\n",
        "      <td>2013-11-01</td>\n",
        "      <td>2013-11-01</td>\n",
        "      <td> Joel Bartlett</td>\n",
        "      <td> Dues Recurring</td>\n",
        "      <td> 17</td>\n",
        "      <td> 2</td>\n",
        "    </tr>\n",
        "    <tr>\n",
        "      <th>7</th>\n",
        "      <td> ExpDtl</td>\n",
        "      <td> ExpDtl</td>\n",
        "      <td> dues credit</td>\n",
        "      <td>2014-09-01</td>\n",
        "      <td>2014-09-01</td>\n",
        "      <td>     Dan Julio</td>\n",
        "      <td> Dues Recurring</td>\n",
        "      <td> 65</td>\n",
        "      <td> 1</td>\n",
        "    </tr>\n",
        "  </tbody>\n",
        "</table>\n",
        "</div>"
       ],
       "metadata": {},
       "output_type": "pyout",
       "prompt_number": 13,
       "text": [
        "  SourceFile Account          how       Date   For Date            who  \\\n",
        "0     ExpDtl  ExpDtl  dues credit 2013-02-01 2013-02-01  Joel Bartlett   \n",
        "1     ExpDtl  ExpDtl  dues credit 2013-02-01 2013-02-01    Liz Baumann   \n",
        "2     ExpDtl  ExpDtl  dues credit 2013-03-01 2013-03-01    Liz Baumann   \n",
        "3     ExpDtl  ExpDtl  dues credit 2013-05-01 2013-05-01  Joel Bartlett   \n",
        "4     ExpDtl  ExpDtl  dues credit 2013-10-01 2013-10-01  Joel Bartlett   \n",
        "5     ExpDtl  ExpDtl  dues credit 2013-11-01 2013-11-01   Ben Burdette   \n",
        "6     ExpDtl  ExpDtl  dues credit 2013-11-01 2013-11-01  Joel Bartlett   \n",
        "7     ExpDtl  ExpDtl  dues credit 2014-09-01 2014-09-01      Dan Julio   \n",
        "\n",
        "            what3  Amount  Entries  \n",
        "0  Dues Recurring      45        1  \n",
        "1  Dues Recurring      65        2  \n",
        "2  Dues Recurring      44        2  \n",
        "3  Dues Recurring      45        1  \n",
        "4  Dues Recurring      65        1  \n",
        "5  Dues Recurring      65        1  \n",
        "6  Dues Recurring      17        2  \n",
        "7  Dues Recurring      65        1  "
       ]
      }
     ],
     "prompt_number": 13
    },
    {
     "cell_type": "markdown",
     "metadata": {},
     "source": [
      "### Expenses Paypal: reclass for refunds that were reimbursing members for expenses: reversal"
     ]
    },
    {
     "cell_type": "code",
     "collapsed": false,
     "input": [
      "cols = ['SourceFile', 'Account', 'how', 'Date', 'For Date', 'who', 'what3', 'Amount', 'Entries']\n",
      "dfed_pp1 = dfed.copy()\n",
      "dfed_pp1 = dfed_pp1[dfed_pp1['how'] == 'paypal']\n",
      "dfed_pp1['who'] = dfed_pp1['Who Transacted']\n",
      "dfed_pp1['what3'] = 'Dues Recurring' \n",
      "dfed_pp1['For Date'] = dfed_pp1['Date']\n",
      "dfed_pp1 = dfed_pp1[cols]\n",
      "dfed_pp1"
     ],
     "language": "python",
     "metadata": {},
     "outputs": [
      {
       "html": [
        "<div style=\"max-height:1000px;max-width:1500px;overflow:auto;\">\n",
        "<table border=\"1\" class=\"dataframe\">\n",
        "  <thead>\n",
        "    <tr style=\"text-align: right;\">\n",
        "      <th></th>\n",
        "      <th>SourceFile</th>\n",
        "      <th>Account</th>\n",
        "      <th>how</th>\n",
        "      <th>Date</th>\n",
        "      <th>For Date</th>\n",
        "      <th>who</th>\n",
        "      <th>what3</th>\n",
        "      <th>Amount</th>\n",
        "      <th>Entries</th>\n",
        "    </tr>\n",
        "  </thead>\n",
        "  <tbody>\n",
        "    <tr>\n",
        "      <th>43</th>\n",
        "      <td> ExpDtl</td>\n",
        "      <td> ExpDtl</td>\n",
        "      <td> paypal</td>\n",
        "      <td>2014-04-02</td>\n",
        "      <td>2014-04-02</td>\n",
        "      <td>    Robert Bryan</td>\n",
        "      <td> Dues Recurring</td>\n",
        "      <td> 53.48</td>\n",
        "      <td> 1</td>\n",
        "    </tr>\n",
        "    <tr>\n",
        "      <th>64</th>\n",
        "      <td> ExpDtl</td>\n",
        "      <td> ExpDtl</td>\n",
        "      <td> paypal</td>\n",
        "      <td>2014-11-02</td>\n",
        "      <td>2014-11-02</td>\n",
        "      <td> Jennifer Farmer</td>\n",
        "      <td> Dues Recurring</td>\n",
        "      <td> 24.00</td>\n",
        "      <td> 1</td>\n",
        "    </tr>\n",
        "  </tbody>\n",
        "</table>\n",
        "</div>"
       ],
       "metadata": {},
       "output_type": "pyout",
       "prompt_number": 14,
       "text": [
        "   SourceFile Account     how       Date   For Date              who  \\\n",
        "43     ExpDtl  ExpDtl  paypal 2014-04-02 2014-04-02     Robert Bryan   \n",
        "64     ExpDtl  ExpDtl  paypal 2014-11-02 2014-11-02  Jennifer Farmer   \n",
        "\n",
        "             what3  Amount  Entries  \n",
        "43  Dues Recurring   53.48        1  \n",
        "64  Dues Recurring   24.00        1  "
       ]
      }
     ],
     "prompt_number": 14
    },
    {
     "cell_type": "markdown",
     "metadata": {},
     "source": [
      "### Expenses Paypal: reclass for refunds that were reimbursing members for expenses: expense"
     ]
    },
    {
     "cell_type": "code",
     "collapsed": false,
     "input": [
      "dfed_pp2 = dfed.copy()\n",
      "dfed_pp2 = dfed_pp2[dfed_pp2['how'] == 'paypal']\n",
      "dfed_pp2['what3'] = dfed_pp2['Category']\n",
      "dfed_pp2['For Date'] = dfed_pp2['Date']\n",
      "dfed_pp2['Amount'] = -dfed_pp2['Amount']\n",
      "dfed_pp2 = dfed_pp2[cols]\n",
      "dfed_pp2"
     ],
     "language": "python",
     "metadata": {},
     "outputs": [
      {
       "html": [
        "<div style=\"max-height:1000px;max-width:1500px;overflow:auto;\">\n",
        "<table border=\"1\" class=\"dataframe\">\n",
        "  <thead>\n",
        "    <tr style=\"text-align: right;\">\n",
        "      <th></th>\n",
        "      <th>SourceFile</th>\n",
        "      <th>Account</th>\n",
        "      <th>how</th>\n",
        "      <th>Date</th>\n",
        "      <th>For Date</th>\n",
        "      <th>who</th>\n",
        "      <th>what3</th>\n",
        "      <th>Amount</th>\n",
        "      <th>Entries</th>\n",
        "    </tr>\n",
        "  </thead>\n",
        "  <tbody>\n",
        "    <tr>\n",
        "      <th>43</th>\n",
        "      <td> ExpDtl</td>\n",
        "      <td> ExpDtl</td>\n",
        "      <td> paypal</td>\n",
        "      <td>2014-04-02</td>\n",
        "      <td>2014-04-02</td>\n",
        "      <td> McGuckin</td>\n",
        "      <td>   Equipment</td>\n",
        "      <td>-53.48</td>\n",
        "      <td> 1</td>\n",
        "    </tr>\n",
        "    <tr>\n",
        "      <th>64</th>\n",
        "      <td> ExpDtl</td>\n",
        "      <td> ExpDtl</td>\n",
        "      <td> paypal</td>\n",
        "      <td>2014-11-02</td>\n",
        "      <td>2014-11-02</td>\n",
        "      <td>   Costco</td>\n",
        "      <td> Consumables</td>\n",
        "      <td>-24.00</td>\n",
        "      <td> 1</td>\n",
        "    </tr>\n",
        "  </tbody>\n",
        "</table>\n",
        "</div>"
       ],
       "metadata": {},
       "output_type": "pyout",
       "prompt_number": 15,
       "text": [
        "   SourceFile Account     how       Date   For Date       who        what3  \\\n",
        "43     ExpDtl  ExpDtl  paypal 2014-04-02 2014-04-02  McGuckin    Equipment   \n",
        "64     ExpDtl  ExpDtl  paypal 2014-11-02 2014-11-02    Costco  Consumables   \n",
        "\n",
        "    Amount  Entries  \n",
        "43  -53.48        1  \n",
        "64  -24.00        1  "
       ]
      }
     ],
     "prompt_number": 15
    },
    {
     "cell_type": "markdown",
     "metadata": {},
     "source": [
      "### Expenses Elevations: expense detail for categorizing checks and debit card transactions"
     ]
    },
    {
     "cell_type": "code",
     "collapsed": false,
     "input": [
      "dfed_el = dfed.copy()\n",
      "dfed_el = dfed_el[dfed_el.how.isin({'check','debit card'})]\n",
      "cols = ['SourceFile', 'Account', 'how', 'Date', 'Category', 'who', 'CheckNbr', 'Amount', 'Entries']\n",
      "dfed_el = dfed_el[cols]\n",
      "dfed_el['For Date'] = dfed_el['Date']\n",
      "dfed_el = dfed_el.groupby(cols[0:len(cols)-2], as_index=False).sum()\n",
      "dfed_el.shape # (51, 9)"
     ],
     "language": "python",
     "metadata": {},
     "outputs": [
      {
       "metadata": {},
       "output_type": "pyout",
       "prompt_number": 16,
       "text": [
        "(51, 9)"
       ]
      }
     ],
     "prompt_number": 16
    },
    {
     "cell_type": "code",
     "collapsed": false,
     "input": [
      "dfed_el.head()"
     ],
     "language": "python",
     "metadata": {},
     "outputs": [
      {
       "html": [
        "<div style=\"max-height:1000px;max-width:1500px;overflow:auto;\">\n",
        "<table border=\"1\" class=\"dataframe\">\n",
        "  <thead>\n",
        "    <tr style=\"text-align: right;\">\n",
        "      <th></th>\n",
        "      <th>SourceFile</th>\n",
        "      <th>Account</th>\n",
        "      <th>how</th>\n",
        "      <th>Date</th>\n",
        "      <th>Category</th>\n",
        "      <th>who</th>\n",
        "      <th>CheckNbr</th>\n",
        "      <th>Amount</th>\n",
        "      <th>Entries</th>\n",
        "    </tr>\n",
        "  </thead>\n",
        "  <tbody>\n",
        "    <tr>\n",
        "      <th>0</th>\n",
        "      <td> ExpDtl</td>\n",
        "      <td> ExpDtl</td>\n",
        "      <td> check</td>\n",
        "      <td>2011-08-01</td>\n",
        "      <td>     Insurance</td>\n",
        "      <td>     Agostini</td>\n",
        "      <td>   0</td>\n",
        "      <td>  618.00</td>\n",
        "      <td> 1</td>\n",
        "    </tr>\n",
        "    <tr>\n",
        "      <th>1</th>\n",
        "      <td> ExpDtl</td>\n",
        "      <td> ExpDtl</td>\n",
        "      <td> check</td>\n",
        "      <td>2012-08-01</td>\n",
        "      <td>     Insurance</td>\n",
        "      <td>     Agostini</td>\n",
        "      <td>   0</td>\n",
        "      <td>  618.00</td>\n",
        "      <td> 1</td>\n",
        "    </tr>\n",
        "    <tr>\n",
        "      <th>2</th>\n",
        "      <td> ExpDtl</td>\n",
        "      <td> ExpDtl</td>\n",
        "      <td> check</td>\n",
        "      <td>2013-04-09</td>\n",
        "      <td> Other Expense</td>\n",
        "      <td>      Kreizel</td>\n",
        "      <td> 184</td>\n",
        "      <td> 1512.50</td>\n",
        "      <td> 1</td>\n",
        "    </tr>\n",
        "    <tr>\n",
        "      <th>3</th>\n",
        "      <td> ExpDtl</td>\n",
        "      <td> ExpDtl</td>\n",
        "      <td> check</td>\n",
        "      <td>2013-08-01</td>\n",
        "      <td>     Insurance</td>\n",
        "      <td>     Agostini</td>\n",
        "      <td> 230</td>\n",
        "      <td>  618.00</td>\n",
        "      <td> 1</td>\n",
        "    </tr>\n",
        "    <tr>\n",
        "      <th>4</th>\n",
        "      <td> ExpDtl</td>\n",
        "      <td> ExpDtl</td>\n",
        "      <td> check</td>\n",
        "      <td>2013-11-15</td>\n",
        "      <td>   Consumables</td>\n",
        "      <td> Robert Bryan</td>\n",
        "      <td> 204</td>\n",
        "      <td>   70.28</td>\n",
        "      <td> 1</td>\n",
        "    </tr>\n",
        "  </tbody>\n",
        "</table>\n",
        "</div>"
       ],
       "metadata": {},
       "output_type": "pyout",
       "prompt_number": 17,
       "text": [
        "  SourceFile Account    how       Date       Category           who CheckNbr  \\\n",
        "0     ExpDtl  ExpDtl  check 2011-08-01      Insurance      Agostini        0   \n",
        "1     ExpDtl  ExpDtl  check 2012-08-01      Insurance      Agostini        0   \n",
        "2     ExpDtl  ExpDtl  check 2013-04-09  Other Expense       Kreizel      184   \n",
        "3     ExpDtl  ExpDtl  check 2013-08-01      Insurance      Agostini      230   \n",
        "4     ExpDtl  ExpDtl  check 2013-11-15    Consumables  Robert Bryan      204   \n",
        "\n",
        "    Amount  Entries  \n",
        "0   618.00        1  \n",
        "1   618.00        1  \n",
        "2  1512.50        1  \n",
        "3   618.00        1  \n",
        "4    70.28        1  "
       ]
      }
     ],
     "prompt_number": 17
    },
    {
     "cell_type": "markdown",
     "metadata": {},
     "source": [
      "### Expenses ???: reimburse member for equipment purchase, from cash"
     ]
    },
    {
     "cell_type": "code",
     "collapsed": false,
     "input": [
      "dfed_cash = dfed.copy()\n",
      "dfed_cash = dfed_cash[dfed_cash['how'] == 'cash']\n",
      "cols = ['SourceFile', 'Account', 'how', 'Date', 'Category', 'who', 'Amount', 'Entries']\n",
      "dfed_cash = dfed_cash[cols]\n",
      "dfed_cash = dfed_cash.groupby(cols[0:len(cols)-2], as_index=False).sum()\n",
      "dfed_cash"
     ],
     "language": "python",
     "metadata": {},
     "outputs": [
      {
       "html": [
        "<div style=\"max-height:1000px;max-width:1500px;overflow:auto;\">\n",
        "<table border=\"1\" class=\"dataframe\">\n",
        "  <thead>\n",
        "    <tr style=\"text-align: right;\">\n",
        "      <th></th>\n",
        "      <th>SourceFile</th>\n",
        "      <th>Account</th>\n",
        "      <th>how</th>\n",
        "      <th>Date</th>\n",
        "      <th>Category</th>\n",
        "      <th>who</th>\n",
        "      <th>Amount</th>\n",
        "      <th>Entries</th>\n",
        "    </tr>\n",
        "  </thead>\n",
        "  <tbody>\n",
        "    <tr>\n",
        "      <th>0</th>\n",
        "      <td> ExpDtl</td>\n",
        "      <td> ExpDtl</td>\n",
        "      <td> cash</td>\n",
        "      <td>2013-07-16</td>\n",
        "      <td> Equipment</td>\n",
        "      <td> Ben Sembera</td>\n",
        "      <td> 16.25</td>\n",
        "      <td> 1</td>\n",
        "    </tr>\n",
        "  </tbody>\n",
        "</table>\n",
        "</div>"
       ],
       "metadata": {},
       "output_type": "pyout",
       "prompt_number": 18,
       "text": [
        "  SourceFile Account   how       Date   Category          who  Amount  Entries\n",
        "0     ExpDtl  ExpDtl  cash 2013-07-16  Equipment  Ben Sembera   16.25        1"
       ]
      }
     ],
     "prompt_number": 18
    },
    {
     "cell_type": "markdown",
     "metadata": {},
     "source": [
      "# Beginning of an attempt at objectizing all this..."
     ]
    },
    {
     "cell_type": "code",
     "collapsed": false,
     "input": [
      "class RevExpDtl:\n",
      "    def __init__(self):\n",
      "        pathFinances = '/Users/lizbaumann/Liz/SSD/_Finances/'\n",
      "        dfrd = pd.read_csv(pathFinances + 'RevenueDetail.csv',skiprows=8)\n",
      "    def get_dfrd(self):\n",
      "        self.dfrd = dfrd\n",
      "        return dfrd\n",
      "\n",
      "red = RevExpDtl()\n",
      "x = red.get_dfrd()\n",
      "x.shape"
     ],
     "language": "python",
     "metadata": {},
     "outputs": [
      {
       "metadata": {},
       "output_type": "pyout",
       "prompt_number": 141,
       "text": [
        "(363, 17)"
       ]
      }
     ],
     "prompt_number": 141
    }
   ],
   "metadata": {}
  }
 ]
}